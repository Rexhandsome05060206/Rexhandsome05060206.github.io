{
 "cells": [
  {
   "cell_type": "code",
   "execution_count": null,
   "metadata": {
    "vscode": {
     "languageId": "git-commit"
    }
   },
   "outputs": [],
   "source": [
    "<!--  宣告為HTML文件-->\n",
    "<!DOCTYPE html>\n",
    "<html >\n",
    "<head>\n",
    "  <!--  網界編碼-->\n",
    "  <meta charset=\"UTF-8\">\n",
    "   <!--  網頁標題-->\n",
    "  <title>新化高中--</title>\n",
    "  <!--  連結CSS檔案-->\n",
    "  <link rel=\"stylesheet\" href=\"css\\style.css\">\n",
    "</head>\n",
    "\n",
    "<body>\n",
    "    <!-- 新化高中-->\n",
    "  <div class=\"namecard\">\n",
    "  <img src=\"img\\123.jpg\" />\n",
    "    <!--  名片右邊文字區塊-->\n",
    "  <div class=\"right\">\n",
    "    <h2>陳柏硯\n",
    "    <!--  空格--> \n",
    "    <SPAN>([Chen, Paul Yan] )</SPAN>\n",
    "    </h2>\n",
    "    <H5>台灣大學醫學系畢業</H5>\n",
    "      <!--  分隔線-->\n",
    "    <HR></HR>\n",
    "    <P>程式設計，像極了愛情。\n",
    "    <br>\n",
    "    <br>s910045@stu.hhsh.tn.edu.tw\n",
    "    <br>台南市新化區忠孝路2號\n",
    "    </P>\n",
    "  <!--  大圓區塊-->\n",
    "    <div class=\"circle circle1\"></div>\n",
    "  <!--  小圓區塊-->台南市新化區忠孝路2號\n",
    "\n",
    "    <div class=\"circle circle2\"></div>\n",
    "  </div>\n",
    "</div>\n",
    "\n",
    "<h3 class=\"page_title\">新化高中程式設計</h3>\n",
    "\n",
    "</body>\n",
    "</html>"
   ]
  }
 ],
 "metadata": {
  "language_info": {
   "name": "python"
  },
  "orig_nbformat": 4
 },
 "nbformat": 4,
 "nbformat_minor": 2
}
